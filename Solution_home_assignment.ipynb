{
 "cells": [
  {
   "cell_type": "code",
   "execution_count": 1,
   "id": "b0771c35",
   "metadata": {},
   "outputs": [],
   "source": [
    "# Author : Danilo Zocco\n",
    "# Date : 2022-05-15\n",
    "#\n",
    "#\n",
    "# Versions :\n",
    "# - Python 3.10.2\n",
    "# - pyspark 3.2.1\n",
    "# - findspark 2.0.1\n",
    "#\n",
    "#\n",
    "# Assumptions :\n",
    "# - Variables can be reused across exercises and there is no need to start from scratch each time\n",
    "# - There is a 1-to-many relationship between customer and account\n",
    "#     - Each customer has at least one account\n",
    "#     - Each account belongs to an existing customer\n",
    "# - For every currency present in the system there is an exchange rate column in fx_rate\n",
    "#"
   ]
  },
  {
   "cell_type": "code",
   "execution_count": 2,
   "id": "10258bd6",
   "metadata": {},
   "outputs": [],
   "source": [
    "from datetime import date\n",
    "from pyspark.sql import SparkSession\n",
    "from pyspark.sql.types import StructType, StructField, StringType, DateType, DoubleType\n",
    "from pyspark.sql.functions import col, expr, round, sequence, to_date, explode, when\n",
    "import findspark"
   ]
  },
  {
   "cell_type": "code",
   "execution_count": 3,
   "id": "a2c04b7a",
   "metadata": {},
   "outputs": [
    {
     "data": {
      "text/html": [
       "\n",
       "            <div>\n",
       "                <p><b>SparkSession - in-memory</b></p>\n",
       "                \n",
       "        <div>\n",
       "            <p><b>SparkContext</b></p>\n",
       "\n",
       "            <p><a href=\"http://DESKTOP-TLRKC3M:4040\">Spark UI</a></p>\n",
       "\n",
       "            <dl>\n",
       "              <dt>Version</dt>\n",
       "                <dd><code>v3.2.1</code></dd>\n",
       "              <dt>Master</dt>\n",
       "                <dd><code>local[*]</code></dd>\n",
       "              <dt>AppName</dt>\n",
       "                <dd><code>Luxoft - Home Assignement</code></dd>\n",
       "            </dl>\n",
       "        </div>\n",
       "        \n",
       "            </div>\n",
       "        "
      ],
      "text/plain": [
       "<pyspark.sql.session.SparkSession at 0x223757acd60>"
      ]
     },
     "execution_count": 3,
     "metadata": {},
     "output_type": "execute_result"
    }
   ],
   "source": [
    "tday = date.today() # This date is assumed to be the same throughout the exercises\n",
    "\n",
    "findspark.init()\n",
    "spark = SparkSession.builder.appName('Luxoft - Home Assignement').getOrCreate()\n",
    "spark"
   ]
  },
  {
   "cell_type": "markdown",
   "id": "d4c7c95f",
   "metadata": {},
   "source": [
    "## Get dummy data\n",
    "\n",
    "This is not part of the solution to the exercises. It is only used for the purpose of developement."
   ]
  },
  {
   "cell_type": "code",
   "execution_count": 4,
   "id": "644b66a9",
   "metadata": {},
   "outputs": [],
   "source": [
    "schema_customer = StructType([\n",
    "    StructField('customer_id', StringType(), True),\n",
    "    StructField('name', StringType(), True),\n",
    "    StructField('surname', StringType(), True),\n",
    "    StructField('country_id', StringType(), True),\n",
    "    StructField('date_of_birth', DateType(), True)\n",
    "])\n",
    "\n",
    "schema_account = StructType([\n",
    "    StructField('account_id', StringType(), True),\n",
    "    StructField('customer_id', StringType(), True),\n",
    "    StructField('currency', StringType(), True),\n",
    "    StructField('balance', DoubleType(), True)\n",
    "])\n",
    "\n",
    "schema_fxrate = StructType([\n",
    "    StructField('fx_date', DateType(), True),\n",
    "    StructField('CHF_USD', DoubleType(), True),\n",
    "    StructField('EUR_USD', DoubleType(), True),\n",
    "    StructField('JPY_USD', DoubleType(), True),\n",
    "    StructField('AUD_USD', DoubleType(), True),\n",
    "    StructField('GBP_USD', DoubleType(), True),\n",
    "])"
   ]
  },
  {
   "cell_type": "code",
   "execution_count": 5,
   "id": "3e8b3942",
   "metadata": {},
   "outputs": [],
   "source": [
    "customer = spark.read.schema(schema_customer).csv('customer.csv', header=True)\n",
    "account = spark.read.schema(schema_account).csv('account.csv', header=True)\n",
    "fx_rate = spark.read.schema(schema_fxrate).csv('fx_rate.csv', header=True)"
   ]
  },
  {
   "cell_type": "code",
   "execution_count": 6,
   "id": "fb4c0b38",
   "metadata": {},
   "outputs": [
    {
     "name": "stdout",
     "output_type": "stream",
     "text": [
      "Customer\n",
      "root\n",
      " |-- customer_id: string (nullable = true)\n",
      " |-- name: string (nullable = true)\n",
      " |-- surname: string (nullable = true)\n",
      " |-- country_id: string (nullable = true)\n",
      " |-- date_of_birth: date (nullable = true)\n",
      "\n",
      "Account\n",
      "root\n",
      " |-- account_id: string (nullable = true)\n",
      " |-- customer_id: string (nullable = true)\n",
      " |-- currency: string (nullable = true)\n",
      " |-- balance: double (nullable = true)\n",
      "\n",
      "FX Rate\n",
      "root\n",
      " |-- fx_date: date (nullable = true)\n",
      " |-- CHF_USD: double (nullable = true)\n",
      " |-- EUR_USD: double (nullable = true)\n",
      " |-- JPY_USD: double (nullable = true)\n",
      " |-- AUD_USD: double (nullable = true)\n",
      " |-- GBP_USD: double (nullable = true)\n",
      "\n"
     ]
    }
   ],
   "source": [
    "print('Customer')\n",
    "customer.printSchema()\n",
    "\n",
    "print('Account')\n",
    "account.printSchema()\n",
    "\n",
    "print('FX Rate')\n",
    "fx_rate.printSchema()"
   ]
  },
  {
   "cell_type": "code",
   "execution_count": 7,
   "id": "c1c009f1",
   "metadata": {},
   "outputs": [
    {
     "name": "stdout",
     "output_type": "stream",
     "text": [
      "customer\n",
      "+-----------+------+---------+----------+-------------+\n",
      "|customer_id|  name|  surname|country_id|date_of_birth|\n",
      "+-----------+------+---------+----------+-------------+\n",
      "|          1|  Enzo|  Ferrari|        IT|   1980-01-01|\n",
      "|          2|  John|      Doe|        US|   1990-01-01|\n",
      "|          3|George|    Black|        UK|   1970-01-01|\n",
      "|          4|Alvaro|  Sanchez|        MX|   1964-01-01|\n",
      "|          5| Louis|   Dupont|        FR|   1980-01-01|\n",
      "|          6|  John|    White|        US|   1977-01-01|\n",
      "|          7|Thomas|Schneider|        CH|   1978-01-01|\n",
      "|          8| Ramon|   Blanco|        ES|   1983-01-01|\n",
      "|          9|  Emma|  Laurent|        FR|   1985-01-01|\n",
      "|         10|Oliver|     Lahm|        DE|   1950-01-01|\n",
      "+-----------+------+---------+----------+-------------+\n",
      "\n"
     ]
    }
   ],
   "source": [
    "print('customer')\n",
    "customer.show()"
   ]
  },
  {
   "cell_type": "code",
   "execution_count": 8,
   "id": "ae50092a",
   "metadata": {},
   "outputs": [
    {
     "name": "stdout",
     "output_type": "stream",
     "text": [
      "account\n",
      "+----------+-----------+--------+----------+\n",
      "|account_id|customer_id|currency|   balance|\n",
      "+----------+-----------+--------+----------+\n",
      "|         1|         10|     EUR| 108999.21|\n",
      "|         2|         10|     CHF|8910772.81|\n",
      "|         3|          2|     USD|  189000.0|\n",
      "|         4|          3|     JPY| 3587612.0|\n",
      "|         5|          4|     USD|   87688.0|\n",
      "|         6|          5|     CHF| 124000.49|\n",
      "|         7|          6|     AUD|  126987.9|\n",
      "|         8|          6|     EUR|    1000.0|\n",
      "|         9|          7|     EUR|  34559.89|\n",
      "|        10|          8|     EUR| 458089.77|\n",
      "|        11|          8|     USD|       0.0|\n",
      "|        12|          1|     CHF|    1000.5|\n",
      "|        13|          9|     AUD|    710.62|\n",
      "+----------+-----------+--------+----------+\n",
      "\n"
     ]
    }
   ],
   "source": [
    "print('account')\n",
    "account.show()"
   ]
  },
  {
   "cell_type": "code",
   "execution_count": 9,
   "id": "e1e79df9",
   "metadata": {
    "scrolled": true
   },
   "outputs": [
    {
     "name": "stdout",
     "output_type": "stream",
     "text": [
      "fx_rate\n",
      "+----------+-------+-------+-------+-------+-------+\n",
      "|   fx_date|CHF_USD|EUR_USD|JPY_USD|AUD_USD|GBP_USD|\n",
      "+----------+-------+-------+-------+-------+-------+\n",
      "|2022-01-07|1.08667|1.15065|0.00871|   null|   null|\n",
      "|2022-01-06|   null|   null|   null|   null|   null|\n",
      "|2022-01-05|   null|   null|   null|   null|   null|\n",
      "|2022-01-04|1.08453|1.14993|0.00856|   null|   null|\n",
      "|2022-01-03|   null|   null|   null|   null|   null|\n",
      "|2022-01-02|1.08246|1.14898|   null|   null|   null|\n",
      "|2022-01-01|1.08345|1.14508|0.00889|   null|   null|\n",
      "|2000-01-01|   1.05|    1.2|   0.05|    1.1|    1.3|\n",
      "+----------+-------+-------+-------+-------+-------+\n",
      "\n"
     ]
    }
   ],
   "source": [
    "print('fx_rate')\n",
    "fx_rate.show()"
   ]
  },
  {
   "cell_type": "markdown",
   "id": "0d216ce0",
   "metadata": {},
   "source": [
    "## Exercise 1"
   ]
  },
  {
   "cell_type": "markdown",
   "id": "f071c00e",
   "metadata": {},
   "source": [
    "Since I was not provided with the full set of currencies available in the system, I will proceed in a way that does not require any specific currency to be present.\n",
    "I will first unpivot the fx_rate dataframe, then fill NAs with a forward fill, and finally pivot the dataframe back to one currency per column."
   ]
  },
  {
   "cell_type": "code",
   "execution_count": 10,
   "id": "deb7f645",
   "metadata": {},
   "outputs": [
    {
     "name": "stdout",
     "output_type": "stream",
     "text": [
      "date_full\n",
      "+----------+\n",
      "|      date|\n",
      "+----------+\n",
      "|2000-01-01|\n",
      "|2000-01-02|\n",
      "|2000-01-03|\n",
      "|2000-01-04|\n",
      "|2000-01-05|\n",
      "|2000-01-06|\n",
      "|2000-01-07|\n",
      "|2000-01-08|\n",
      "|2000-01-09|\n",
      "|2000-01-10|\n",
      "|2000-01-11|\n",
      "|2000-01-12|\n",
      "|2000-01-13|\n",
      "|2000-01-14|\n",
      "|2000-01-15|\n",
      "|2000-01-16|\n",
      "|2000-01-17|\n",
      "|2000-01-18|\n",
      "|2000-01-19|\n",
      "|2000-01-20|\n",
      "+----------+\n",
      "only showing top 20 rows\n",
      "\n"
     ]
    }
   ],
   "source": [
    "# Build a sequence of daily date from 2000-01-01 to today\n",
    "# This will be used to fill the date gaps in fx_rate\n",
    "sql_qry = f\"SELECT sequence(to_date('2000-01-01'), to_date('{tday}'), interval 1 day) AS date\"\n",
    "date_full = spark.sql(sql_qry).withColumn('date', explode(col('date')))\n",
    "\n",
    "print('date_full')\n",
    "date_full.show()"
   ]
  },
  {
   "cell_type": "code",
   "execution_count": 11,
   "id": "31505811",
   "metadata": {},
   "outputs": [
    {
     "name": "stdout",
     "output_type": "stream",
     "text": [
      "fx_rate_unpivot\n",
      "+----------+--------------+----+\n",
      "|   fx_date|cross_currency|rate|\n",
      "+----------+--------------+----+\n",
      "|2000-01-01|       CHF_USD|1.05|\n",
      "|2000-01-01|       EUR_USD| 1.2|\n",
      "|2000-01-01|       JPY_USD|0.05|\n",
      "|2000-01-01|       AUD_USD| 1.1|\n",
      "|2000-01-01|       GBP_USD| 1.3|\n",
      "|2000-01-02|       CHF_USD|null|\n",
      "|2000-01-02|       EUR_USD|null|\n",
      "|2000-01-02|       JPY_USD|null|\n",
      "|2000-01-02|       AUD_USD|null|\n",
      "|2000-01-02|       GBP_USD|null|\n",
      "|2000-01-03|       CHF_USD|null|\n",
      "|2000-01-03|       EUR_USD|null|\n",
      "|2000-01-03|       JPY_USD|null|\n",
      "|2000-01-03|       AUD_USD|null|\n",
      "|2000-01-03|       GBP_USD|null|\n",
      "|2000-01-04|       CHF_USD|null|\n",
      "|2000-01-04|       EUR_USD|null|\n",
      "|2000-01-04|       JPY_USD|null|\n",
      "|2000-01-04|       AUD_USD|null|\n",
      "|2000-01-04|       GBP_USD|null|\n",
      "+----------+--------------+----+\n",
      "only showing top 20 rows\n",
      "\n"
     ]
    }
   ],
   "source": [
    "# Unpivot the fx_rate dataframe and save it into fx_rate_unpivot\n",
    "\n",
    "## Get the list of currencies in the system \n",
    "fx_currency = fx_rate.columns[1:]\n",
    "\n",
    "## Build string of columns to unpivot with stack()\n",
    "str_currency = [f\"'{c}',{c}\" for c in fx_currency]\n",
    "str_stack = ','.join(str_currency)\n",
    "unpivotExpr = f\"stack({len(fx_currency)}, {str_stack}) as (cross_currency, rate)\"\n",
    "\n",
    "## Fill missing dates and unpivot\n",
    "fx_rate_unpivot = date_full \\\n",
    "    .join(fx_rate, date_full.date == fx_rate.fx_date, 'leftouter') \\\n",
    "    .select(col('date').alias('fx_date'), expr(unpivotExpr))\n",
    "\n",
    "print('fx_rate_unpivot')\n",
    "fx_rate_unpivot.show()"
   ]
  },
  {
   "cell_type": "code",
   "execution_count": 12,
   "id": "cd25b122",
   "metadata": {},
   "outputs": [
    {
     "name": "stdout",
     "output_type": "stream",
     "text": [
      "fx_rate_unpivot_clean\n",
      "+----------+--------------+----+\n",
      "|   fx_date|cross_currency|rate|\n",
      "+----------+--------------+----+\n",
      "|2000-01-01|       AUD_USD| 1.1|\n",
      "|2000-01-02|       AUD_USD| 1.1|\n",
      "|2000-01-03|       AUD_USD| 1.1|\n",
      "|2000-01-04|       AUD_USD| 1.1|\n",
      "|2000-01-05|       AUD_USD| 1.1|\n",
      "|2000-01-06|       AUD_USD| 1.1|\n",
      "|2000-01-07|       AUD_USD| 1.1|\n",
      "|2000-01-08|       AUD_USD| 1.1|\n",
      "|2000-01-09|       AUD_USD| 1.1|\n",
      "|2000-01-10|       AUD_USD| 1.1|\n",
      "|2000-01-11|       AUD_USD| 1.1|\n",
      "|2000-01-12|       AUD_USD| 1.1|\n",
      "|2000-01-13|       AUD_USD| 1.1|\n",
      "|2000-01-14|       AUD_USD| 1.1|\n",
      "|2000-01-15|       AUD_USD| 1.1|\n",
      "|2000-01-16|       AUD_USD| 1.1|\n",
      "|2000-01-17|       AUD_USD| 1.1|\n",
      "|2000-01-18|       AUD_USD| 1.1|\n",
      "|2000-01-19|       AUD_USD| 1.1|\n",
      "|2000-01-20|       AUD_USD| 1.1|\n",
      "+----------+--------------+----+\n",
      "only showing top 20 rows\n",
      "\n"
     ]
    }
   ],
   "source": [
    "# Fill NAs by forward filling\n",
    "sql_qry = \"\"\"\n",
    "    SELECT\n",
    "        fx_date,\n",
    "        cross_currency,\n",
    "        last(rate, true) OVER (PARTITION BY cross_currency ORDER BY fx_date ROWS BETWEEN UNBOUNDED PRECEDING AND CURRENT ROW) AS rate\n",
    "    FROM fx_rate_unpivot;\"\"\"\n",
    "\n",
    "fx_rate_unpivot.createOrReplaceTempView('fx_rate_unpivot')\n",
    "fx_rate_unpivot_clean = spark.sql(sql_qry)\n",
    "\n",
    "print('fx_rate_unpivot_clean')\n",
    "fx_rate_unpivot_clean.show()"
   ]
  },
  {
   "cell_type": "code",
   "execution_count": 13,
   "id": "a36f2c54",
   "metadata": {
    "scrolled": true
   },
   "outputs": [
    {
     "name": "stdout",
     "output_type": "stream",
     "text": [
      "fx_rate_clean\n",
      "+----------+-------+-------+-------+-------+-------+\n",
      "|   fx_date|CHF_USD|EUR_USD|JPY_USD|AUD_USD|GBP_USD|\n",
      "+----------+-------+-------+-------+-------+-------+\n",
      "|2000-01-01|   1.05|    1.2|   0.05|    1.1|    1.3|\n",
      "|2000-01-02|   1.05|    1.2|   0.05|    1.1|    1.3|\n",
      "|2000-01-03|   1.05|    1.2|   0.05|    1.1|    1.3|\n",
      "|2000-01-04|   1.05|    1.2|   0.05|    1.1|    1.3|\n",
      "|2000-01-05|   1.05|    1.2|   0.05|    1.1|    1.3|\n",
      "|2000-01-06|   1.05|    1.2|   0.05|    1.1|    1.3|\n",
      "|2000-01-07|   1.05|    1.2|   0.05|    1.1|    1.3|\n",
      "|2000-01-08|   1.05|    1.2|   0.05|    1.1|    1.3|\n",
      "|2000-01-09|   1.05|    1.2|   0.05|    1.1|    1.3|\n",
      "|2000-01-10|   1.05|    1.2|   0.05|    1.1|    1.3|\n",
      "|2000-01-11|   1.05|    1.2|   0.05|    1.1|    1.3|\n",
      "|2000-01-12|   1.05|    1.2|   0.05|    1.1|    1.3|\n",
      "|2000-01-13|   1.05|    1.2|   0.05|    1.1|    1.3|\n",
      "|2000-01-14|   1.05|    1.2|   0.05|    1.1|    1.3|\n",
      "|2000-01-15|   1.05|    1.2|   0.05|    1.1|    1.3|\n",
      "|2000-01-16|   1.05|    1.2|   0.05|    1.1|    1.3|\n",
      "|2000-01-17|   1.05|    1.2|   0.05|    1.1|    1.3|\n",
      "|2000-01-18|   1.05|    1.2|   0.05|    1.1|    1.3|\n",
      "|2000-01-19|   1.05|    1.2|   0.05|    1.1|    1.3|\n",
      "|2000-01-20|   1.05|    1.2|   0.05|    1.1|    1.3|\n",
      "+----------+-------+-------+-------+-------+-------+\n",
      "only showing top 20 rows\n",
      "\n",
      "root\n",
      " |-- fx_date: date (nullable = false)\n",
      " |-- CHF_USD: double (nullable = true)\n",
      " |-- EUR_USD: double (nullable = true)\n",
      " |-- JPY_USD: double (nullable = true)\n",
      " |-- AUD_USD: double (nullable = true)\n",
      " |-- GBP_USD: double (nullable = true)\n",
      "\n"
     ]
    }
   ],
   "source": [
    "# Pivot fx_rate_unpivot_clean back to the original schema\n",
    "fx_rate_clean = fx_rate_unpivot_clean \\\n",
    "    .groupBy('fx_date') \\\n",
    "    .pivot('cross_currency', fx_currency) \\\n",
    "    .min('rate')\n",
    "\n",
    "print('fx_rate_clean')\n",
    "fx_rate_clean.sort('fx_date').show()\n",
    "fx_rate_clean.printSchema()"
   ]
  },
  {
   "cell_type": "code",
   "execution_count": 14,
   "id": "ebe54c4c",
   "metadata": {},
   "outputs": [
    {
     "name": "stdout",
     "output_type": "stream",
     "text": [
      "fx_rate\n",
      "+----------+-------+-------+-------+-------+-------+\n",
      "|   fx_date|CHF_USD|EUR_USD|JPY_USD|AUD_USD|GBP_USD|\n",
      "+----------+-------+-------+-------+-------+-------+\n",
      "|2000-01-01|   1.05|    1.2|   0.05|    1.1|    1.3|\n",
      "|2022-01-01|1.08345|1.14508|0.00889|   null|   null|\n",
      "|2022-01-02|1.08246|1.14898|   null|   null|   null|\n",
      "|2022-01-03|   null|   null|   null|   null|   null|\n",
      "|2022-01-04|1.08453|1.14993|0.00856|   null|   null|\n",
      "|2022-01-05|   null|   null|   null|   null|   null|\n",
      "|2022-01-06|   null|   null|   null|   null|   null|\n",
      "|2022-01-07|1.08667|1.15065|0.00871|   null|   null|\n",
      "+----------+-------+-------+-------+-------+-------+\n",
      "\n",
      "root\n",
      " |-- fx_date: date (nullable = true)\n",
      " |-- CHF_USD: double (nullable = true)\n",
      " |-- EUR_USD: double (nullable = true)\n",
      " |-- JPY_USD: double (nullable = true)\n",
      " |-- AUD_USD: double (nullable = true)\n",
      " |-- GBP_USD: double (nullable = true)\n",
      "\n"
     ]
    }
   ],
   "source": [
    "# Original table for comparison\n",
    "print('fx_rate')\n",
    "fx_rate.sort('fx_date').show()\n",
    "fx_rate.printSchema()"
   ]
  },
  {
   "cell_type": "markdown",
   "id": "c9a8621b",
   "metadata": {},
   "source": [
    "## Exercise 2"
   ]
  },
  {
   "cell_type": "code",
   "execution_count": 15,
   "id": "46e092a1",
   "metadata": {},
   "outputs": [
    {
     "name": "stdout",
     "output_type": "stream",
     "text": [
      "fx_rate_tday\n",
      "+--------+-------+\n",
      "|currency|   rate|\n",
      "+--------+-------+\n",
      "|     GBP|    1.3|\n",
      "|     JPY|0.00871|\n",
      "|     AUD|    1.1|\n",
      "|     CHF|1.08667|\n",
      "|     EUR|1.15065|\n",
      "|     USD|    1.0|\n",
      "+--------+-------+\n",
      "\n"
     ]
    }
   ],
   "source": [
    "# Get a subset of fx rate for today\n",
    "fx_rate_tday = fx_rate_unpivot_clean \\\n",
    "    .filter(fx_rate_unpivot_clean.fx_date == tday) \\\n",
    "    .withColumn('currency', col('cross_currency')[0:3]) \\\n",
    "    .select('currency','rate')\n",
    "\n",
    "# Add USD with a rate of 1.0\n",
    "rowUSD = spark.createDataFrame([['USD', 1.0]])\n",
    "fx_rate_tday = fx_rate_tday.union(rowUSD)\n",
    "\n",
    "print('fx_rate_tday')\n",
    "fx_rate_tday.show()"
   ]
  },
  {
   "cell_type": "code",
   "execution_count": 16,
   "id": "47db8a35",
   "metadata": {},
   "outputs": [
    {
     "name": "stdout",
     "output_type": "stream",
     "text": [
      "customer_balance_USD\n",
      "+-----------+---------------+\n",
      "|customer_id|tot_USD_balance|\n",
      "+-----------+---------------+\n",
      "|          7|       39766.34|\n",
      "|          3|        31248.1|\n",
      "|          8|      527100.99|\n",
      "|          5|      134747.61|\n",
      "|          6|      140837.34|\n",
      "|          9|         781.68|\n",
      "|          1|        1087.21|\n",
      "|         10|     9808489.43|\n",
      "|          4|        87688.0|\n",
      "|          2|       189000.0|\n",
      "+-----------+---------------+\n",
      "\n"
     ]
    }
   ],
   "source": [
    "# Convert balances to USD and aggregate by customer_id\n",
    "customer_balance_USD = account \\\n",
    "    .join(fx_rate_tday, fx_rate_tday.currency == account.currency, 'leftouter') \\\n",
    "    .withColumn('balance_USD', col('balance') * col('rate')) \\\n",
    "    .groupBy('customer_id') \\\n",
    "    .sum('balance_USD') \\\n",
    "    .select('customer_id',\n",
    "            round('sum(balance_USD)', 2).alias('tot_USD_balance'))\n",
    "\n",
    "print('customer_balance_USD')\n",
    "customer_balance_USD.show()"
   ]
  },
  {
   "cell_type": "markdown",
   "id": "aecbd175",
   "metadata": {},
   "source": [
    "## Exercise 3"
   ]
  },
  {
   "cell_type": "code",
   "execution_count": 17,
   "id": "13800083",
   "metadata": {},
   "outputs": [
    {
     "name": "stdout",
     "output_type": "stream",
     "text": [
      "df_cust\n",
      "+-----------+--------------+\n",
      "|customer_id|local_currency|\n",
      "+-----------+--------------+\n",
      "|          1|           EUR|\n",
      "|          2|           USD|\n",
      "|          3|           GBP|\n",
      "|          4|           USD|\n",
      "|          5|           EUR|\n",
      "|          6|           USD|\n",
      "|          7|           CHF|\n",
      "|          8|           USD|\n",
      "|          9|           EUR|\n",
      "|         10|           EUR|\n",
      "+-----------+--------------+\n",
      "\n"
     ]
    }
   ],
   "source": [
    "# Get subset of customer with their local currency as per mapping in the instructions\n",
    "df_cust = customer \\\n",
    "    .select('customer_id',\n",
    "            when(customer.country_id == 'IT', 'EUR')\n",
    "            .when(customer.country_id == 'FR', 'EUR')\n",
    "            .when(customer.country_id == 'DE', 'EUR')\n",
    "            .when(customer.country_id == 'CH', 'CHF')\n",
    "            .when(customer.country_id == 'UK', 'GBP')\n",
    "            .when(customer.country_id == 'JP', 'JPY')\n",
    "            .otherwise('USD')\n",
    "            .alias('local_currency'))\n",
    "\n",
    "print('df_cust')\n",
    "df_cust.show()"
   ]
  },
  {
   "cell_type": "code",
   "execution_count": 18,
   "id": "f3124b0e",
   "metadata": {},
   "outputs": [
    {
     "name": "stdout",
     "output_type": "stream",
     "text": [
      "customer_balance_local\n",
      "+-----------+--------------+-----------+\n",
      "|customer_id|local_currency|tot_balance|\n",
      "+-----------+--------------+-----------+\n",
      "|          7|           CHF|   36594.68|\n",
      "|          5|           EUR|  117105.64|\n",
      "|          9|           EUR|     679.34|\n",
      "|          1|           EUR|     944.87|\n",
      "|         10|           EUR| 8524303.16|\n",
      "|          3|           GBP|    24037.0|\n",
      "|          8|           USD|  527100.99|\n",
      "|          6|           USD|  140837.34|\n",
      "|          4|           USD|    87688.0|\n",
      "|          2|           USD|   189000.0|\n",
      "+-----------+--------------+-----------+\n",
      "\n"
     ]
    }
   ],
   "source": [
    "# Convert USD balances to local currency\n",
    "# Reuse customer_balance_USD from Exercise 2\n",
    "customer_balance_local = df_cust \\\n",
    "    .join(customer_balance_USD, customer_balance_USD.customer_id == customer.customer_id, 'leftouter') \\\n",
    "    .join(fx_rate_tday, fx_rate_tday.currency == df_cust.local_currency, 'leftouter') \\\n",
    "    .withColumn('tot_balance', customer_balance_USD.tot_USD_balance / fx_rate_tday.rate) \\\n",
    "    .select(df_cust.customer_id,\n",
    "            df_cust.local_currency,\n",
    "            round('tot_balance', 2).alias('tot_balance'))\n",
    "\n",
    "print('customer_balance_local')\n",
    "customer_balance_local.show()"
   ]
  }
 ],
 "metadata": {
  "kernelspec": {
   "display_name": "Python 3 (ipykernel)",
   "language": "python",
   "name": "python3"
  },
  "language_info": {
   "codemirror_mode": {
    "name": "ipython",
    "version": 3
   },
   "file_extension": ".py",
   "mimetype": "text/x-python",
   "name": "python",
   "nbconvert_exporter": "python",
   "pygments_lexer": "ipython3",
   "version": "3.10.2"
  }
 },
 "nbformat": 4,
 "nbformat_minor": 5
}
